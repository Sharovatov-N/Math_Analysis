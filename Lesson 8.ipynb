{
 "cells": [
  {
   "cell_type": "markdown",
   "metadata": {},
   "source": [
    "### Домашнее задание по теме «Производные функций нескольких переменных»."
   ]
  },
  {
   "cell_type": "markdown",
   "metadata": {},
   "source": [
    "#### 1.       Найти область определения функции."
   ]
  },
  {
   "cell_type": "markdown",
   "metadata": {},
   "source": [
    "$z=\\sqrt{1-x^3}+\\ln(y^2-1)$"
   ]
  },
  {
   "cell_type": "markdown",
   "metadata": {},
   "source": [
    "$1-x^3\\geqslant0\\implies x\\leqslant1$<br>\n",
    "$y^2-1<0\\implies -1>y>1$"
   ]
  },
  {
   "cell_type": "markdown",
   "metadata": {},
   "source": [
    "<img src=\"L8_1.jpg\">"
   ]
  },
  {
   "cell_type": "markdown",
   "metadata": {},
   "source": [
    "#### 2.       Найти производные 1-го порядка функции."
   ]
  },
  {
   "cell_type": "markdown",
   "metadata": {},
   "source": [
    "$z=\\left(1+\\frac{\\ln(x)}{\\ln(y)}\\right)^3$"
   ]
  },
  {
   "cell_type": "markdown",
   "metadata": {},
   "source": [
    "$z'_x=\\frac{3\\ln^2(y)+\\ln^2(x)+\\ln(x^6)\\ln(y)}{x\\ln^3(y)}$"
   ]
  },
  {
   "cell_type": "markdown",
   "metadata": {},
   "source": [
    "$z'_y=\\frac{\\ln^2(y)\\ln(x^3)+\\ln(y)\\ln(x^6)\\ln(x)+\\ln(x^3)\\ln^2(x)}{\\ln^4(y)y}$"
   ]
  },
  {
   "cell_type": "markdown",
   "metadata": {},
   "source": [
    "#### 3.       Найти полный дифференциал функции в точке (1;1)."
   ]
  },
  {
   "cell_type": "markdown",
   "metadata": {},
   "source": [
    "$z=\\sqrt{2xy+\\cos\\frac{x}{y}}$"
   ]
  },
  {
   "cell_type": "markdown",
   "metadata": {},
   "source": [
    "$dz=z'(x)dx+z'(y)dy$"
   ]
  },
  {
   "cell_type": "markdown",
   "metadata": {},
   "source": [
    "$dz=\\left.\\left(2y-\\frac{\\sin(\\frac{x}{y})}{y}\\right)\\left(\\frac{1}{2\\sqrt{2xy+\\cos(\\frac{x}{y})}}\\right)dx+\\left(2x+\\frac{x\\sin(\\frac{x}{y})}{y}\\right)\\left(\\frac{1}{2\\sqrt{2xy+\\cos(\\frac{x}{y})}}\\right)dy\\right|_{(1;1)}=\\frac{1}{2\\sqrt{2}}dx+\\frac{3}{2\\sqrt{2}}dy$"
   ]
  },
  {
   "cell_type": "markdown",
   "metadata": {},
   "source": [
    "#### 4.       Исследовать на экстремум функцию"
   ]
  },
  {
   "cell_type": "markdown",
   "metadata": {},
   "source": [
    "$z=x^2+xy+y^2-6x-9y$"
   ]
  },
  {
   "cell_type": "markdown",
   "metadata": {},
   "source": [
    "$\\left\\{\n",
    "\\begin{array}{rcl}\n",
    "z'_x=2x+y-6=0\\\\\n",
    "z'_y=x+2y-9=0\\\\\n",
    "\\end{array}\n",
    "\\right.$"
   ]
  },
  {
   "cell_type": "markdown",
   "metadata": {},
   "source": [
    "$\\left\\{\n",
    "\\begin{array}{rcl}\n",
    "x=1\\\\\n",
    "y=4\\\\\n",
    "\\end{array}\n",
    "\\right.$"
   ]
  },
  {
   "cell_type": "markdown",
   "metadata": {},
   "source": [
    "$z\"_{xx}=2 \\\\\n",
    "z\"_{xy}=1 \\\\\n",
    "z\"_{yy}=2$ "
   ]
  },
  {
   "cell_type": "markdown",
   "metadata": {},
   "source": [
    "Определитель матрици $=3$ (>0) <br>\n",
    "$z\"_{xx}>0$"
   ]
  },
  {
   "cell_type": "markdown",
   "metadata": {},
   "source": [
    "Вывод: В этой точке - минимум "
   ]
  }
 ],
 "metadata": {
  "kernelspec": {
   "display_name": "Python 3",
   "language": "python",
   "name": "python3"
  },
  "language_info": {
   "codemirror_mode": {
    "name": "ipython",
    "version": 3
   },
   "file_extension": ".py",
   "mimetype": "text/x-python",
   "name": "python",
   "nbconvert_exporter": "python",
   "pygments_lexer": "ipython3",
   "version": "3.8.3"
  }
 },
 "nbformat": 4,
 "nbformat_minor": 4
}
