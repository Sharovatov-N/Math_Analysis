{
 "cells": [
  {
   "cell_type": "markdown",
   "metadata": {},
   "source": [
    "### Тема 6 “Понятие о производной”"
   ]
  },
  {
   "cell_type": "markdown",
   "metadata": {},
   "source": [
    "#### 1. Найти производную выражения:"
   ]
  },
  {
   "cell_type": "markdown",
   "metadata": {},
   "source": [
    "$\\left(sinx*cosx\\right)'=\\left(sinx\\right)'cosx+\\left(cosx\\right)'sinx=cosx*cosx+(-sinx)*sinx=cos^2x-sin^2x$"
   ]
  },
  {
   "cell_type": "markdown",
   "metadata": {},
   "source": [
    "$\\left(ln(2x+1)^3\\right)'=\\frac{1}{(2x+1)^3}*3(2x+1)^2*2=\\frac{6}{2x+1}$"
   ]
  },
  {
   "cell_type": "markdown",
   "metadata": {},
   "source": [
    "$\\left(\\sqrt{sin^2(ln(x^3))}\\right)'=\\left(sin(ln(x^3))\\right)'=cos(ln(x^3))*\\frac{1}{x^3}*3x^2=\\frac{3cos(ln(x^3))}{x}$"
   ]
  },
  {
   "cell_type": "markdown",
   "metadata": {},
   "source": [
    "$\\left(\\frac{x^4}{ln(x)}\\right)'=\\frac{4x^3ln(x)-x^4*\\frac{1}{x}}{{ln}^2(x)}=\\frac{4x^3ln(x)-x^3}{ln^2(x)}=\\frac{x^3ln(x^4)-x^3}{ln^2(x)}$"
   ]
  },
  {
   "cell_type": "markdown",
   "metadata": {},
   "source": [
    "#### 2. Найти выражение производной функции и ее значение в точке:"
   ]
  },
  {
   "cell_type": "markdown",
   "metadata": {},
   "source": [
    "$f(x)=cos(x^2+3x), \\ x_0=\\sqrt{\\pi}$<br>\n",
    "$\\left(cos(x^2+3x)\\right)'=\\left(-sin(x^2+3x)\\right)*(2x+3)$<br>\n",
    "$\\left(-sin((\\sqrt{\\pi})^2+3\\sqrt{\\pi})\\right)*\\left(2\\sqrt{\\pi}+3\\right)\\approx-5,383 \\ \\left(-\\sqrt{3}\\pi\\right)$"
   ]
  },
  {
   "cell_type": "markdown",
   "metadata": {},
   "source": [
    "#### 3. * Найти значение производной функции в точке:"
   ]
  },
  {
   "cell_type": "markdown",
   "metadata": {},
   "source": [
    "$f(x)=\\frac{x^3-x^2-x-1}{1+2x+3x^2-4x^3}, \\ x_0=0$<br>\n",
    "$\\left(\\frac{x^3-x^2-x-1}{1+2x+3x^2-4x^3}\\right)'=\\frac{1+4x-8x^2-4x^3-x^4}{(1+2x+3x^2-4x^3)^2}$ (при $x_0=0$)=1"
   ]
  },
  {
   "cell_type": "markdown",
   "metadata": {},
   "source": [
    "#### 4. Найти угол наклона касательной к графику функции в точке:"
   ]
  },
  {
   "cell_type": "markdown",
   "metadata": {},
   "source": [
    "$f(x)=\\sqrt{3x}lnx, \\ x_0=1$<br>\n",
    "$\\left(\\sqrt{3x}lnx\\right)'=\\frac{\\sqrt{3}lnx}{2\\sqrt{x}}+\\frac{\\sqrt{3x}}{x}$<br>\n",
    "$tg\\alpha=\\frac{\\sqrt{3}ln1}{2\\sqrt{1}}+\\frac{\\sqrt{3*1}}{1}=\\sqrt{3}$<br>\n",
    "$\\alpha=60^{\\circ}$"
   ]
  }
 ],
 "metadata": {
  "kernelspec": {
   "display_name": "Python 3",
   "language": "python",
   "name": "python3"
  },
  "language_info": {
   "codemirror_mode": {
    "name": "ipython",
    "version": 3
   },
   "file_extension": ".py",
   "mimetype": "text/x-python",
   "name": "python",
   "nbconvert_exporter": "python",
   "pygments_lexer": "ipython3",
   "version": "3.8.3"
  }
 },
 "nbformat": 4,
 "nbformat_minor": 4
}
