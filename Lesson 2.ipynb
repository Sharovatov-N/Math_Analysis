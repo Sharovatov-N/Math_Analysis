{
 "cells": [
  {
   "cell_type": "markdown",
   "metadata": {},
   "source": [
    "### Тема “Введение в математических анализ”"
   ]
  },
  {
   "cell_type": "markdown",
   "metadata": {},
   "source": [
    "#### 1. Как относятся друг к другу множество и последовательность? (в ответе использовать слова типа: часть, целое, общее, частное, родитель, дочерний субъект и т.д.)"
   ]
  },
  {
   "cell_type": "markdown",
   "metadata": {},
   "source": [
    "Из определения <b>Последовательности</b> (Набор элементов <b>Множества</b>, в котором каждому натуральному числу соответствует элемент) ==> <b>Последовательность</b> является дочерним субъектом от родителя <b>Множество</b>."
   ]
  },
  {
   "cell_type": "markdown",
   "metadata": {},
   "source": [
    "#### 2. Прочитать высказывания математической логики, построить их отрицания и установить истинность."
   ]
  },
  {
   "cell_type": "markdown",
   "metadata": {},
   "source": [
    "$\\forall y \\in [ \\,0;1] \\, : sgn( \\,y) \\, = 1$"
   ]
  },
  {
   "cell_type": "markdown",
   "metadata": {},
   "source": [
    "<b>Высказывание</b> - Для любого 'y' из интервала от '0' до '1' значение функции 'сигнум' от 'y' равно '1'<br>\n",
    "<b>Отрицание</b> - $\\exists y \\in [ \\,0;1] \\, : sgn( \\,y) \\, \\not = 1$<br>\n",
    "<b>Истинность</b> - Ложь (при y=0 sgn(y)=0)"
   ]
  },
  {
   "cell_type": "markdown",
   "metadata": {},
   "source": [
    "$\\forall n \\in \\mathbb{N} > 2 : \\exists x, y, z \\in \\mathbb{N} : x^n = y^n + z^n$"
   ]
  },
  {
   "cell_type": "markdown",
   "metadata": {},
   "source": [
    "<b>Высказывание</b> - Для любого натурального 'n' существуют такие натуральные 'x', 'y', 'z' для которых справедливо равенство 'x' в степени 'n' равно сумме 'y' в степени 'n' и 'z' в степени 'n'<br>\n",
    "<b>Отрицание</b> - $\\exists n \\in \\mathbb{N} > 2 : \\forall x, y, z \\in \\mathbb{N} : x^n \\not = y^n + z^n$<br>\n",
    "<b>Истинность</b> - Ложь (теорема Ферма)"
   ]
  },
  {
   "cell_type": "markdown",
   "metadata": {},
   "source": [
    "$\\forall x \\in \\mathbb{R} \\exists X \\in \\mathbb{R} : X > x$"
   ]
  },
  {
   "cell_type": "markdown",
   "metadata": {},
   "source": [
    "<b>Высказывание</b> - Для любого вещественного 'x' существует такое вещественное 'X' для которого справедливо неравенство 'X' больше 'x'<br>\n",
    "<b>Отрицание</b> - $\\exists x \\in \\mathbb{R} \\forall X \\in \\mathbb{R} : X \\leq x$<br>\n",
    "<b>Истинность</b> - Истина"
   ]
  },
  {
   "cell_type": "markdown",
   "metadata": {},
   "source": [
    "$\\forall x \\in \\mathbb{C} \\nexists y \\in \\mathbb{C} : x > y \\| x < y$"
   ]
  },
  {
   "cell_type": "markdown",
   "metadata": {},
   "source": [
    "<b>Высказывание</b> - Для любого комплексного 'x' не существует такое комплексное 'y' которое меньше или больше 'x'<br>\n",
    "<b>Отрицание</b> - $\\exists x, y \\in \\mathbb{C} : x \\leq y \\| x \\geq y$<br>\n",
    "<b>Истинность</b> - Истина (комплексные числа нельзя сравнивать)"
   ]
  },
  {
   "cell_type": "markdown",
   "metadata": {},
   "source": [
    "$\\forall y \\in [ \\,0; \\frac{\\pi}{2}] \\, \\exists \\epsilon > 0 : siny < sin(y + \\epsilon)$"
   ]
  },
  {
   "cell_type": "markdown",
   "metadata": {},
   "source": [
    "<b>Высказывание</b> - Для любого 'y' в интервале от '0' до '$\\frac{\\pi}{2}$' существует $\\epsilon$ больше '0' для которого sin(y) меньше sin(y + $\\epsilon$)<br>\n",
    "<b>Отрицание</b> - $\\exists y \\in [ \\,0; \\frac{\\pi}{2}] \\, \\forall \\epsilon > 0 : siny \\geq sin(y + \\epsilon)$<br>\n",
    "<b>Истинность</b> - Ложь ($sin \\frac{\\pi}{2} = 1$)"
   ]
  },
  {
   "cell_type": "markdown",
   "metadata": {},
   "source": [
    "$\\forall y \\in [ \\,0; \\pi) \\, \\exists \\epsilon > 0 : cosy > cos(y + \\epsilon)$"
   ]
  },
  {
   "cell_type": "markdown",
   "metadata": {},
   "source": [
    "<b>Высказывание</b> - Для любого 'y' в интервале от '0' до '$\\pi$'(не включительно) существует $\\epsilon$ больше '0' для которого cos(y) больше cos(y + $\\epsilon$)<br>\n",
    "<b>Отрицание</b> - $\\exists y \\in [ \\,0; \\pi) \\, \\forall \\epsilon > 0 : cosy \\leq cos(y + \\epsilon)$<br>\n",
    "<b>Истинность</b> - Истина ($\\pi$ не входит в интервал)"
   ]
  },
  {
   "cell_type": "markdown",
   "metadata": {},
   "source": [
    "$\\exists x : x \\notin \\{\\mathbb{N}, \\mathbb{Z}, \\mathbb{Q}, \\mathbb{R}, \\mathbb{C}\\}$"
   ]
  },
  {
   "cell_type": "markdown",
   "metadata": {},
   "source": [
    "<b>Высказывание</b> - Существует такое 'x' которое не является натуральным, целым, рациональным, вещественным, комплексным числом<br>\n",
    "<b>Отрицание</b> - $\\forall x : x \\in \\{\\mathbb{N}, \\mathbb{Z}, \\mathbb{Q}, \\mathbb{R}, \\mathbb{C}\\}$<br>\n",
    "<b>Истинность</b> - Истина"
   ]
  },
  {
   "cell_type": "markdown",
   "metadata": {},
   "source": [
    "### Тема “Множество”"
   ]
  },
  {
   "cell_type": "markdown",
   "metadata": {},
   "source": [
    "#### 1. Даны три множества a,b и с. Необходимо выполнить все изученные виды бинарных операций над всеми комбинациями множеств."
   ]
  },
  {
   "cell_type": "markdown",
   "metadata": {},
   "source": [
    "Все виды бинарных операций над всеми комбинациями множеств представлены на Python"
   ]
  },
  {
   "cell_type": "markdown",
   "metadata": {},
   "source": [
    "#### 2. *Выполнить задание 1 на языке Python"
   ]
  },
  {
   "cell_type": "code",
   "execution_count": 1,
   "metadata": {},
   "outputs": [
    {
     "data": {
      "text/plain": [
       "{'20', '30', '4', '40', '9'}"
      ]
     },
     "execution_count": 1,
     "metadata": {},
     "output_type": "execute_result"
    }
   ],
   "source": [
    "a = {'20', '30', '40', '4', '9'}\n",
    "a"
   ]
  },
  {
   "cell_type": "code",
   "execution_count": 2,
   "metadata": {},
   "outputs": [
    {
     "data": {
      "text/plain": [
       "{'2', '4', '5', '6', '8', '9'}"
      ]
     },
     "execution_count": 2,
     "metadata": {},
     "output_type": "execute_result"
    }
   ],
   "source": [
    "b = set('245689')\n",
    "b"
   ]
  },
  {
   "cell_type": "code",
   "execution_count": 3,
   "metadata": {},
   "outputs": [
    {
     "data": {
      "text/plain": [
       "{()}"
      ]
     },
     "execution_count": 3,
     "metadata": {},
     "output_type": "execute_result"
    }
   ],
   "source": [
    "c = {()}\n",
    "c"
   ]
  },
  {
   "cell_type": "code",
   "execution_count": 4,
   "metadata": {},
   "outputs": [
    {
     "data": {
      "text/plain": [
       "{'2', '20', '30', '4', '40', '5', '6', '8', '9'}"
      ]
     },
     "execution_count": 4,
     "metadata": {},
     "output_type": "execute_result"
    }
   ],
   "source": [
    "aub = a.union(b) # объединение\n",
    "aub"
   ]
  },
  {
   "cell_type": "code",
   "execution_count": 5,
   "metadata": {},
   "outputs": [
    {
     "data": {
      "text/plain": [
       "{'4', '9'}"
      ]
     },
     "execution_count": 5,
     "metadata": {},
     "output_type": "execute_result"
    }
   ],
   "source": [
    "aib = a.intersection(b) # пересечение\n",
    "aib"
   ]
  },
  {
   "cell_type": "code",
   "execution_count": 6,
   "metadata": {},
   "outputs": [
    {
     "data": {
      "text/plain": [
       "{'20', '30', '40'}"
      ]
     },
     "execution_count": 6,
     "metadata": {},
     "output_type": "execute_result"
    }
   ],
   "source": [
    "adb = a.difference(b) # разность a и b\n",
    "adb"
   ]
  },
  {
   "cell_type": "code",
   "execution_count": 7,
   "metadata": {},
   "outputs": [
    {
     "data": {
      "text/plain": [
       "{'2', '5', '6', '8'}"
      ]
     },
     "execution_count": 7,
     "metadata": {},
     "output_type": "execute_result"
    }
   ],
   "source": [
    "bda = b.difference(a) # разность b и a\n",
    "bda"
   ]
  },
  {
   "cell_type": "code",
   "execution_count": 8,
   "metadata": {},
   "outputs": [
    {
     "data": {
      "text/plain": [
       "{'2', '20', '30', '40', '5', '6', '8'}"
      ]
     },
     "execution_count": 8,
     "metadata": {},
     "output_type": "execute_result"
    }
   ],
   "source": [
    "asdb = a.symmetric_difference(b) # симметрическая разность\n",
    "asdb"
   ]
  },
  {
   "cell_type": "markdown",
   "metadata": {},
   "source": [
    "Тоже самое, но с пустым множеством"
   ]
  },
  {
   "cell_type": "code",
   "execution_count": 9,
   "metadata": {},
   "outputs": [
    {
     "data": {
      "text/plain": [
       "{(), '20', '30', '4', '40', '9'}"
      ]
     },
     "execution_count": 9,
     "metadata": {},
     "output_type": "execute_result"
    }
   ],
   "source": [
    "auc = a.union(c)\n",
    "auc"
   ]
  },
  {
   "cell_type": "code",
   "execution_count": 10,
   "metadata": {},
   "outputs": [
    {
     "data": {
      "text/plain": [
       "set()"
      ]
     },
     "execution_count": 10,
     "metadata": {},
     "output_type": "execute_result"
    }
   ],
   "source": [
    "aic = a.intersection(c)\n",
    "aic"
   ]
  },
  {
   "cell_type": "code",
   "execution_count": 11,
   "metadata": {},
   "outputs": [
    {
     "data": {
      "text/plain": [
       "{'20', '30', '4', '40', '9'}"
      ]
     },
     "execution_count": 11,
     "metadata": {},
     "output_type": "execute_result"
    }
   ],
   "source": [
    "adc = a.difference(c)\n",
    "adc"
   ]
  },
  {
   "cell_type": "code",
   "execution_count": 12,
   "metadata": {},
   "outputs": [
    {
     "data": {
      "text/plain": [
       "{()}"
      ]
     },
     "execution_count": 12,
     "metadata": {},
     "output_type": "execute_result"
    }
   ],
   "source": [
    "cda = c.difference(a)\n",
    "cda"
   ]
  },
  {
   "cell_type": "code",
   "execution_count": 13,
   "metadata": {},
   "outputs": [
    {
     "data": {
      "text/plain": [
       "{(), '20', '30', '4', '40', '9'}"
      ]
     },
     "execution_count": 13,
     "metadata": {},
     "output_type": "execute_result"
    }
   ],
   "source": [
    "asdc = a.symmetric_difference(c)\n",
    "asdc"
   ]
  },
  {
   "cell_type": "markdown",
   "metadata": {},
   "source": [
    "### Тема “Последовательность”"
   ]
  },
  {
   "cell_type": "markdown",
   "metadata": {},
   "source": [
    "#### 1. Даны 4 последовательности. Необходимо:"
   ]
  },
  {
   "cell_type": "markdown",
   "metadata": {},
   "source": [
    "        a. исследовать их на монотонность;"
   ]
  },
  {
   "cell_type": "markdown",
   "metadata": {},
   "source": [
    "$\\{a_n\\}_{n=1}^\\infty = 2^n - n$ - возрастает<br>\n",
    "$\\{b_n\\}_{n=2}^\\infty = \\frac{1}{1 - n}$ - возрастает<br>\n",
    "$\\{c_n\\}_{n=1}^\\infty = -1^n + \\sqrt{2n}$ - возрастает<br>\n",
    "$\\{d_n\\}_{n=1}^\\infty = (-1)^{2n} + \\frac{1}{n^2}$ - убывает"
   ]
  },
  {
   "cell_type": "markdown",
   "metadata": {},
   "source": [
    "    b. исследовать на ограниченность;"
   ]
  },
  {
   "cell_type": "markdown",
   "metadata": {},
   "source": [
    "$\\{a_n\\}_{n=1}^\\infty = 2^n - n$ - неограничена<br>\n",
    "$\\{b_n\\}_{n=2}^\\infty = \\frac{1}{1 - n}$ - ограничена<br>\n",
    "$\\{c_n\\}_{n=1}^\\infty = -1^n + \\sqrt{2n}$ - неограничена<br>\n",
    "$\\{d_n\\}_{n=1}^\\infty = (-1)^{2n} + \\frac{1}{n^2}$ - ограничена"
   ]
  },
  {
   "cell_type": "markdown",
   "metadata": {},
   "source": [
    "    c. найти пятый по счету член."
   ]
  },
  {
   "cell_type": "markdown",
   "metadata": {},
   "source": [
    "$\\{a_n\\}_{n=1}^\\infty = 2^n - n \\to a_5 = 2^5 - 5 = 27$<br>\n",
    "$\\{b_n\\}_{n=2}^\\infty = \\frac{1}{1 - n} \\to b_6 = \\frac{1}{1 - 6} = -0.2$<br>\n",
    "$\\{c_n\\}_{n=1}^\\infty = -1^n + \\sqrt{2n} \\to c_5 = -1^5 + \\sqrt{2*5} = \\sqrt{10} - 1 = 2.1623$<br>\n",
    "$\\{d_n\\}_{n=1}^\\infty = (-1)^{2n} + \\frac{1}{n^2} \\to d_5 = (-1)^{2*5} + \\frac{1}{5^2} = 1 + \\frac{1}{25} = 1.04$"
   ]
  },
  {
   "cell_type": "markdown",
   "metadata": {},
   "source": [
    "#### 2. Найти 12-й член заданной неявно последовательности"
   ]
  },
  {
   "cell_type": "markdown",
   "metadata": {},
   "source": [
    "$a_1 = 128, a_{n+1} - a_n = 6 \\implies a_{n+1} = a_n + 6 \\implies a_{n+1} = a_1 + 6n \\implies a_{12} = 128 + 6 * 11 = 194$"
   ]
  },
  {
   "cell_type": "markdown",
   "metadata": {},
   "source": [
    "#### 3. *На языке Python предложить алгоритм вычисляющий численно предел с точностью $\\epsilon = 10^{-7}$\n",
    "$\\lim\\limits_{n \\to + \\infty}{\\sqrt[n]{n!}}$\n",
    "\n",
    "При такой постановке вопроса программа будет выдавать ошибку 'int too large to convert to float', потому что точность float - 16 знаков после запятой и после 170 элемента этой последовательности мы выйдем за это значение точности."
   ]
  },
  {
   "cell_type": "code",
   "execution_count": 14,
   "metadata": {},
   "outputs": [
    {
     "ename": "OverflowError",
     "evalue": "int too large to convert to float",
     "output_type": "error",
     "traceback": [
      "\u001b[0;31m---------------------------------------------------------------------------\u001b[0m",
      "\u001b[0;31mOverflowError\u001b[0m                             Traceback (most recent call last)",
      "\u001b[0;32m<ipython-input-14-596c874755ab>\u001b[0m in \u001b[0;36m<module>\u001b[0;34m\u001b[0m\n\u001b[1;32m      4\u001b[0m \u001b[0ma\u001b[0m \u001b[0;34m=\u001b[0m \u001b[0;36m0.0000001\u001b[0m\u001b[0;34m\u001b[0m\u001b[0;34m\u001b[0m\u001b[0m\n\u001b[1;32m      5\u001b[0m \u001b[0mi\u001b[0m \u001b[0;34m=\u001b[0m \u001b[0;36m2\u001b[0m\u001b[0;34m\u001b[0m\u001b[0;34m\u001b[0m\u001b[0m\n\u001b[0;32m----> 6\u001b[0;31m \u001b[0;32mwhile\u001b[0m \u001b[0mlimit\u001b[0m\u001b[0;34m(\u001b[0m\u001b[0mi\u001b[0m\u001b[0;34m)\u001b[0m \u001b[0;34m-\u001b[0m \u001b[0mlimit\u001b[0m\u001b[0;34m(\u001b[0m\u001b[0mi\u001b[0m \u001b[0;34m-\u001b[0m \u001b[0;36m1\u001b[0m\u001b[0;34m)\u001b[0m \u001b[0;34m>\u001b[0m \u001b[0ma\u001b[0m\u001b[0;34m:\u001b[0m\u001b[0;34m\u001b[0m\u001b[0;34m\u001b[0m\u001b[0m\n\u001b[0m\u001b[1;32m      7\u001b[0m     \u001b[0mi\u001b[0m \u001b[0;34m=\u001b[0m \u001b[0mi\u001b[0m \u001b[0;34m+\u001b[0m \u001b[0;36m10\u001b[0m\u001b[0;34m\u001b[0m\u001b[0;34m\u001b[0m\u001b[0m\n\u001b[1;32m      8\u001b[0m \u001b[0mprint\u001b[0m\u001b[0;34m(\u001b[0m\u001b[0mlimit\u001b[0m\u001b[0;34m(\u001b[0m\u001b[0mi\u001b[0m\u001b[0;34m)\u001b[0m\u001b[0;34m)\u001b[0m\u001b[0;34m\u001b[0m\u001b[0;34m\u001b[0m\u001b[0m\n",
      "\u001b[0;32m<ipython-input-14-596c874755ab>\u001b[0m in \u001b[0;36mlimit\u001b[0;34m(n)\u001b[0m\n\u001b[1;32m      1\u001b[0m \u001b[0;32mimport\u001b[0m \u001b[0mmath\u001b[0m\u001b[0;34m\u001b[0m\u001b[0;34m\u001b[0m\u001b[0m\n\u001b[1;32m      2\u001b[0m \u001b[0;32mdef\u001b[0m \u001b[0mlimit\u001b[0m\u001b[0;34m(\u001b[0m\u001b[0mn\u001b[0m\u001b[0;34m)\u001b[0m\u001b[0;34m:\u001b[0m\u001b[0;34m\u001b[0m\u001b[0;34m\u001b[0m\u001b[0m\n\u001b[0;32m----> 3\u001b[0;31m     \u001b[0;32mreturn\u001b[0m \u001b[0mn\u001b[0m \u001b[0;34m/\u001b[0m \u001b[0;34m(\u001b[0m\u001b[0mmath\u001b[0m\u001b[0;34m.\u001b[0m\u001b[0mfactorial\u001b[0m\u001b[0;34m(\u001b[0m\u001b[0mn\u001b[0m\u001b[0;34m)\u001b[0m \u001b[0;34m**\u001b[0m \u001b[0;34m(\u001b[0m\u001b[0;36m1\u001b[0m\u001b[0;34m/\u001b[0m\u001b[0mn\u001b[0m\u001b[0;34m)\u001b[0m\u001b[0;34m)\u001b[0m\u001b[0;34m\u001b[0m\u001b[0;34m\u001b[0m\u001b[0m\n\u001b[0m\u001b[1;32m      4\u001b[0m \u001b[0ma\u001b[0m \u001b[0;34m=\u001b[0m \u001b[0;36m0.0000001\u001b[0m\u001b[0;34m\u001b[0m\u001b[0;34m\u001b[0m\u001b[0m\n\u001b[1;32m      5\u001b[0m \u001b[0mi\u001b[0m \u001b[0;34m=\u001b[0m \u001b[0;36m2\u001b[0m\u001b[0;34m\u001b[0m\u001b[0;34m\u001b[0m\u001b[0m\n",
      "\u001b[0;31mOverflowError\u001b[0m: int too large to convert to float"
     ]
    }
   ],
   "source": [
    "import math\n",
    "def limit(n):\n",
    "    return n / math.factorial(n) ** (1/n)\n",
    "a = 0.0000001\n",
    "i = 2\n",
    "while limit(i) - limit(i - 1) > a:\n",
    "    i = i + 10\n",
    "print(limit(i))"
   ]
  },
  {
   "cell_type": "code",
   "execution_count": null,
   "metadata": {},
   "outputs": [],
   "source": []
  }
 ],
 "metadata": {
  "kernelspec": {
   "display_name": "Python 3",
   "language": "python",
   "name": "python3"
  },
  "language_info": {
   "codemirror_mode": {
    "name": "ipython",
    "version": 3
   },
   "file_extension": ".py",
   "mimetype": "text/x-python",
   "name": "python",
   "nbconvert_exporter": "python",
   "pygments_lexer": "ipython3",
   "version": "3.8.3"
  }
 },
 "nbformat": 4,
 "nbformat_minor": 4
}
