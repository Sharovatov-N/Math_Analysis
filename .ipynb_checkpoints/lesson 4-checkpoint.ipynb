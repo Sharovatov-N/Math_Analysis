{
 "cells": [
  {
   "cell_type": "markdown",
   "metadata": {},
   "source": [
    "### Тема “Предел функции”"
   ]
  },
  {
   "cell_type": "markdown",
   "metadata": {},
   "source": [
    "#### 1. Предложить пример функции, не имеющей предела в нуле и в бесконечностях."
   ]
  },
  {
   "cell_type": "markdown",
   "metadata": {},
   "source": [
    "$ f(x)=sgn( \\,x)$"
   ]
  },
  {
   "cell_type": "markdown",
   "metadata": {},
   "source": [
    "$f(x)=sin\\frac{1}{x}$"
   ]
  },
  {
   "cell_type": "markdown",
   "metadata": {},
   "source": [
    "#### 2. Привести пример функции, не имеющей предела в точке, но определенной в ней."
   ]
  },
  {
   "cell_type": "markdown",
   "metadata": {},
   "source": [
    "Функция, $y=x^2$, в точке $х_0 = 0$ предела не имеет, поскольку существующие правый и левый пределы этой функции в этой точке не равны между собой."
   ]
  },
  {
   "cell_type": "markdown",
   "metadata": {},
   "source": [
    "#### 3. Исследовать функцию $f(x)=x^3-x^2$ по плану:"
   ]
  },
  {
   "cell_type": "markdown",
   "metadata": {},
   "source": [
    "Область задания $(-\\infty;+\\infty), \\{x|x\\in \\mathbb{R}\\}$<br>\n",
    "Область значений $(-\\infty;+\\infty), \\{y|y\\in \\mathbb{R}\\}$"
   ]
  },
  {
   "cell_type": "markdown",
   "metadata": {},
   "source": [
    "Нули функции и их кратность x=0 (кратность 2), x=1 (кратность 1)"
   ]
  },
  {
   "cell_type": "markdown",
   "metadata": {},
   "source": [
    "Отрезки знакопостоянства $f(x)>0 - x\\in(1;\\infty)$ и $f(x)<0 - x\\in(-\\infty; 0)\\cup(0; 1)$"
   ]
  },
  {
   "cell_type": "markdown",
   "metadata": {},
   "source": [
    "Интервалы монотонности $(-\\infty;0), \\ (0;\\frac{2}{3}), \\ (\\frac{2}{3}; +\\infty)$"
   ]
  },
  {
   "cell_type": "markdown",
   "metadata": {},
   "source": [
    "Четность функции - функция не является четной или нечетной"
   ]
  },
  {
   "cell_type": "markdown",
   "metadata": {},
   "source": [
    "Ограниченность - функция не огранина"
   ]
  },
  {
   "cell_type": "markdown",
   "metadata": {},
   "source": [
    "Периодичность - нет"
   ]
  },
  {
   "cell_type": "markdown",
   "metadata": {},
   "source": [
    "#### 4. Найти предел:"
   ]
  },
  {
   "cell_type": "markdown",
   "metadata": {},
   "source": [
    "$\\lim\\limits_{x \\to 0}{\\frac{3x^3-2x^2}{4x^2}} = -\\frac{1}{2}$"
   ]
  },
  {
   "cell_type": "markdown",
   "metadata": {},
   "source": [
    "$\\lim\\limits_{x \\to 0}{\\frac{\\sqrt{1+x}-1}{\\sqrt[3]{1+x}-1}} = \\frac{3}{2}$"
   ]
  },
  {
   "cell_type": "markdown",
   "metadata": {},
   "source": [
    "$\\lim\\limits_{x \\to \\infty}{(\\frac{x+3}{x})^{4x+1}} = e^{12}$"
   ]
  },
  {
   "cell_type": "markdown",
   "metadata": {},
   "source": [
    "### Тема “Теоремы о пределах”"
   ]
  },
  {
   "cell_type": "markdown",
   "metadata": {},
   "source": [
    "#### 1. Найти предел:"
   ]
  },
  {
   "cell_type": "markdown",
   "metadata": {},
   "source": [
    "$\\lim\\limits_{x \\to 0}{\\frac{sin(2x)}{4x}} = \\frac{1}{2}$"
   ]
  },
  {
   "cell_type": "markdown",
   "metadata": {},
   "source": [
    "$\\lim\\limits_{x \\to 0}{\\frac{x}{sin(x)}} = 1$"
   ]
  },
  {
   "cell_type": "markdown",
   "metadata": {},
   "source": [
    "$\\lim\\limits_{x \\to 0}{\\frac{x}{arcsin(x)}} = 1$"
   ]
  },
  {
   "cell_type": "markdown",
   "metadata": {},
   "source": [
    "$\\lim\\limits_{x \\to \\infty}{(\\frac{4x+3}{4x-3})^{6x}} = e^9$"
   ]
  },
  {
   "cell_type": "markdown",
   "metadata": {},
   "source": [
    "$\\lim\\limits_{x \\to \\infty}{\\frac{sinx+lnx}{x}}$ (Поскольку $\\frac{-1+lnx}{x}\\leqslant\\frac{sinx+lnx}{x}\\leqslant\\frac{1+lnx}{x}$ и $\\lim\\limits_{x \\to \\infty}{\\frac{-1+lnx}{x}}=\\lim\\limits_{x \\to \\infty}{\\frac{1+lnx}{x}}=0$, пременим теорему сжатия) $=0$"
   ]
  },
  {
   "cell_type": "markdown",
   "metadata": {},
   "source": [
    "$\\lim\\limits_{x \\to 0}{\\frac{sin(x)+ln(x)}{x}}$ => Поскольку в области определения $\\frac{sin(x)+ln(x)}{x}$ слева от 0 не имеет значений, то придел не существует."
   ]
  }
 ],
 "metadata": {
  "kernelspec": {
   "display_name": "Python 3",
   "language": "python",
   "name": "python3"
  },
  "language_info": {
   "codemirror_mode": {
    "name": "ipython",
    "version": 3
   },
   "file_extension": ".py",
   "mimetype": "text/x-python",
   "name": "python",
   "nbconvert_exporter": "python",
   "pygments_lexer": "ipython3",
   "version": "3.8.3"
  }
 },
 "nbformat": 4,
 "nbformat_minor": 4
}
